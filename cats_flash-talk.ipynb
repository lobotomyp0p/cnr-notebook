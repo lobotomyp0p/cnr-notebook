{
 "cells": [
  {
   "cell_type": "markdown",
   "metadata": {
    "slideshow": {
     "slide_type": "-"
    }
   },
   "source": [
    "# Catch-Neuter-Release: Controlling Urban Feral Cat Populations\n",
    "\n",
    "I like cats. You probably like cats. You know who doesn't like cats? Songbirds. I see a lot of songbirds around Ann Arbor. I don't see a lot of wild cats. I'm from Southern California. In my home town there's a lot of outdoor pet cats, and a handful of feral ones. Not so many songbirds.\n",
    "\n",
    "## What do we do about it?\n",
    "\n",
    "Not much. There's a lot of options, but the reality is that humans created this problem 10s of thousands of years ago and it's a hard problem for us to solve. It's a harder problem for the songbirds, and they can't do a thing about it. Some solutions of varying palatability:\n",
    "* Euthanasia ( 😿 )\n",
    "* No-kill shelters, adoption ( 😻 )\n",
    "* Catch-Neuter-Release ( 😾 - 🙀 - 😼 )\n",
    "\n",
    "## Catch-Neuter-Release\n",
    "\n",
    "Catch cats. Neuter/spay them. Release them back into the \"wild\". Is this a solution? Not in the short term. Cats still hunt even if they're neutered, and they even hunt for pleasure. But it makes people feel better because 1) no one's murdering kittens 2) they don't have to take care of the cats.\n",
    "\n",
    "## Is it a long-term solution?\n",
    "\n",
    "Can a long term CNR program control or destroy a feral cat population?\n",
    "Lets \"build\" a simple logistical model and ~find out~. Or make an educated but possibly wrong guess.\n",
    "\n",
    "Some sources for information on CNR and feral cat populations:\n",
    "1. https://www.animallaw.info/article/detailed-discussion-feral-cat-population-control\n",
    "2. https://abcbirds.org/program/cats-indoors/learn-more/\n",
    "3. http://www.hshv.org/site/PageNavigator/services/tnr.html\n",
    "4. http://www.humanesociety.org/issues/feral_cats/qa/feral_cat_FAQs.html?referrer=http://www.hshv.org/site/PageNavigator/services/feral_cat_resources.html\n",
    "5. http://www.pbs.org/newshour/bb/why-activists-are-fighting-over-feral-felines-2/\n",
    "\n",
    "# Cat populations over time.\n",
    "## Birth-only model"
   ]
  },
  {
   "cell_type": "code",
   "execution_count": 19,
   "metadata": {
    "collapsed": true
   },
   "outputs": [],
   "source": [
    "t = 52*1 # 52 weeks * years\n",
    "n0 = 100 # initial cat population\n",
    "nl = 1.5 # number of litters per year\n",
    "nk = 3 # number of kittens per litter who survive to adulthood\n",
    "nc = nk * nl / 52 # number of new cats each pregnant cat produces every week\n",
    "\n",
    "N = [n0] # list of cat population every week\n",
    "W = [1] # week index\n",
    "for i in range(t):\n",
    "    np = N[i]/2 # number of pregnant cats this week\n",
    "    nb = int(np * nc) # integer number of cats born\n",
    "    dN = nb # number of new cats this week\n",
    "    N.append(N[i] + dN)\n",
    "    W.append(W[i] + 1)\n",
    "    \n",
    "# print(N)"
   ]
  },
  {
   "cell_type": "code",
   "execution_count": 20,
   "metadata": {},
   "outputs": [
    {
     "data": {
      "image/png": "[encoded data removed]",
      "text/plain": [
       "<matplotlib.figure.Figure at 0x1111426a0>"
      ]
     },
     "metadata": {},
     "output_type": "display_data"
    }
   ],
   "source": [
    "import matplotlib.pyplot as plt\n",
    "\n",
    "fig, axes = plt.subplots()\n",
    "axes.scatter(W,N ,marker='+')\n",
    "axes.set_xlabel('weeks')\n",
    "axes.set_ylabel('# cats')\n",
    "axes.set_title(':3')\n",
    "\n",
    "plt.show()"
   ]
  },
  {
   "cell_type": "markdown",
   "metadata": {},
   "source": [
    "## Death\n",
    "We introduce a small death rate. In a fecund (many offspring per pregnant adult) population young members will dominate, and the percent of the population which is dying will be small if assume an ample food supply."
   ]
  },
  {
   "cell_type": "code",
   "execution_count": 9,
   "metadata": {
    "collapsed": true
   },
   "outputs": [],
   "source": [
    "t = 52*1 # 52 weeks * years\n",
    "n0 = 100 # initial cat population\n",
    "nl = 1.5 # number of litters per year\n",
    "nk = 3 # number of kittens per litter who survive to adulthood\n",
    "nc = nk * nl / 52 # number of new cats each pregnant cat produces every week\n",
    "\n",
    "rd = .03 # percent of cats which die every year\n",
    "\n",
    "N = [n0] # list of cat population every week\n",
    "W = [1] # week index\n",
    "for i in range(t):\n",
    "    np = N[i]/2 # number of pregnant cats this week\n",
    "    nb = int(np * nc) # integer number of cats born\n",
    "    nd = int(rd * N[i]) # integer number of cats which died this week\n",
    "    dN = nb - nd # number of new cats this week\n",
    "    N.append(N[i] + dN)\n",
    "    W.append(W[i] + 1)\n",
    "    \n",
    "# print(N)"
   ]
  },
  {
   "cell_type": "code",
   "execution_count": 10,
   "metadata": {},
   "outputs": [
    {
     "data": {
      "image/png": "[encoded data removed]",
      "text/plain": [
       "<matplotlib.figure.Figure at 0x110da8ef0>"
      ]
     },
     "metadata": {},
     "output_type": "display_data"
    }
   ],
   "source": [
    "import matplotlib.pyplot as plt\n",
    "\n",
    "fig, axes = plt.subplots()\n",
    "axes.scatter(W,N ,marker='+')\n",
    "axes.set_xlabel('weeks')\n",
    "axes.set_ylabel('# cats')\n",
    "axes.set_title('3\\':')\n",
    "\n",
    "plt.show()"
   ]
  },
  {
   "cell_type": "markdown",
   "metadata": {},
   "source": [
    "## CNR\n",
    "We introduce neuters. Assuming that funding remains constant, a CNR program will be able to neuter a constant amount of cats every week."
   ]
  },
  {
   "cell_type": "code",
   "execution_count": 1,
   "metadata": {
    "collapsed": true
   },
   "outputs": [],
   "source": [
    "t = 52*1 # 52 weeks * years\n",
    "n0 = 100 # initial cat population\n",
    "nl = 1.5 # number of litters per year\n",
    "nk = 3 # number of kittens per litter who survive to adulthood\n",
    "nc = nk * nl / 52 # number of new cats each pregnant cat produces every week\n",
    "\n",
    "rd = .03 # percent of cats which die every year\n",
    "    \n",
    "# A CNR program with finite, approximately constant funding\n",
    "nn = 10 # number of cats neutered per week\n",
    "Nn = [0] # list of population of neutered cats every week\n",
    "\n",
    "N = [n0] # list of cat population every week\n",
    "W = [1] # week index\n",
    "for i in range(t):\n",
    "    nnb = nn # number of cats neutered this week\n",
    "    nnd = int(rd * Nn[i]) # integer number of neutered cats that died this week\n",
    "    dNn = nnb - nnd # number of newly neutered cats this week\n",
    "    Nn.append(Nn[i] + dNn)\n",
    "    if Nn[i+1] > N[i] : Nn[i+1] = N[i] # success for CNR\n",
    "    \n",
    "    np = (N[i] - Nn[i+1])/2 # number of pregnant cats this week\n",
    "                            # calculated from the virile population\n",
    "    nb = int(np * nc) # integer number of cats born this week\n",
    "    nd = int(rd * N[i]) # integer number of cats that died this week\n",
    "    dN = nb - nd # change in cat population this week\n",
    "    N.append(N[i] + dN)\n",
    "    W.append(W[i] + 1)\n",
    "    \n",
    "# print(N)"
   ]
  },
  {
   "cell_type": "code",
   "execution_count": 2,
   "metadata": {},
   "outputs": [
    {
     "data": {
      "image/png": "[encoded data removed]",
      "text/plain": [
       "<matplotlib.figure.Figure at 0x102bcbd30>"
      ]
     },
     "metadata": {},
     "output_type": "display_data"
    }
   ],
   "source": [
    "import matplotlib.pyplot as plt\n",
    "\n",
    "fig, axes = plt.subplots()\n",
    "axes.scatter(W,N ,marker='+')\n",
    "axes.set_xlabel('weeks')\n",
    "axes.set_ylabel('# cats')\n",
    "axes.set_title('3:')\n",
    "\n",
    "plt.show()"
   ]
  },
  {
   "cell_type": "code",
   "execution_count": 3,
   "metadata": {},
   "outputs": [
    {
     "data": {
      "image/png": "[encoded data removed]",
      "text/plain": [
       "<matplotlib.figure.Figure at 0x108f14ef0>"
      ]
     },
     "metadata": {},
     "output_type": "display_data"
    }
   ],
   "source": [
    "import matplotlib.pyplot as plt\n",
    "\n",
    "fig, axes = plt.subplots()\n",
    "axes.scatter(W,N ,marker='+')\n",
    "axes.scatter(W,Nn ,marker='v')\n",
    "axes.set_xlabel('weeks')\n",
    "axes.set_ylabel('# cats')\n",
    "axes.set_title('3:>')\n",
    "axes.legend(['total cat population','neutered cats'])\n",
    "\n",
    "plt.show()"
   ]
  },
  {
   "cell_type": "markdown",
   "metadata": {},
   "source": [
    "## A More Realistic Model\n",
    "The Humane Society of Huron Valley gives some figures for their T(C)NR program.\n",
    "* 1049 cats neutered per year $\\to$ ~20 per week\n",
    "* Stray/abandoned kittens dropped by 36% over ~10 years\n",
    "\n",
    "MSU's Animal Legal and Historical Center and the American Bird Conservancy give some figures on feral cat populations.\n",
    "* life expectancy: less than 2 years\n",
    "* size of the colony depends on food source\n",
    "* cats may have up to 3 litters per year\n",
    "* 3-6 kittens per litter may survive to adulthood"
   ]
  },
  {
   "cell_type": "code",
   "execution_count": 6,
   "metadata": {
    "collapsed": true
   },
   "outputs": [],
   "source": [
    "t = 52*1 # 52 weeks * years\n",
    "n0 = 600 # initial cat population\n",
    "         # try 100, 300, 600\n",
    "nl = 3 # number of litters per year\n",
    "nk = 6 # number of kittens per litter who survive to adulthood\n",
    "nc = nk * nl / 52 # number of new cats each pregnant cat produces every week\n",
    "\n",
    "rd = .10 # percent of cats which die every year\n",
    "    \n",
    "# A CNR program with finite, approximately constant funding\n",
    "nn = 20 # number of cats neutered per week\n",
    "Nn = [0] # list of population of neutered cats every week\n",
    "\n",
    "N = [n0] # list of cat population every week\n",
    "W = [1] # week index\n",
    "for i in range(t):\n",
    "    nnb = nn # number of cats neutered this week\n",
    "    nnd = int(rd * Nn[i]) # integer number of neutered cats which died this week\n",
    "    dNn = nnb - nnd # number of newly neutered cats this week\n",
    "    Nn.append(Nn[i] + dNn)\n",
    "    if Nn[i+1] > N[i] : Nn[i+1] = N[i] # success for CNR\n",
    "    \n",
    "    np = (N[i] - Nn[i+1])/2 # number of pregnant cats this week\n",
    "                            # calculated from the virile population\n",
    "    nb = int(np * nc) # integer number of cats born this week\n",
    "    nd = int(rd * N[i]) # integer number of cats which died this week\n",
    "    dN = nb - nd # change in cat population this week\n",
    "    N.append(N[i] + dN)\n",
    "    W.append(W[i] + 1)\n",
    "    \n",
    "# print(N)"
   ]
  },
  {
   "cell_type": "code",
   "execution_count": 7,
   "metadata": {},
   "outputs": [
    {
     "data": {
      "image/png": "[encoded data removed]",
      "text/plain": [
       "<matplotlib.figure.Figure at 0x10c4a29e8>"
      ]
     },
     "metadata": {},
     "output_type": "display_data"
    }
   ],
   "source": [
    "import matplotlib.pyplot as plt\n",
    "\n",
    "fig, axes = plt.subplots()\n",
    "axes.scatter(W,N ,marker='+')\n",
    "axes.scatter(W,Nn ,marker='v')\n",
    "axes.set_xlabel('weeks')\n",
    "axes.set_ylabel('# cats')\n",
    "axes.set_title('>:3c')\n",
    "axes.legend(['total cat population','neutered cats'])\n",
    "\n",
    "plt.show()"
   ]
  },
  {
   "cell_type": "markdown",
   "metadata": {},
   "source": [
    "# Conclusions\n",
    "\n",
    "It's very difficult to control large colonies with ample food sources, such as are represented by these simple models. Many TNR programs include a component of care and feeding for colonies in the interests of animal welfare, but in a colony that's not under control this could increase the population of the colony beyond managable levels. Since cats continue to hunt even when they're not hungry, any population of feral cats presents a danger to local wildlife.\n",
    "\n",
    "* CNR programs need an agressive strategy to control colonies before they become too large.\n",
    "* CNR programs that provide care for colonies need to ensure that they are caring for *neutered* cats- providing feeding and vaccinations for virile cats may run counter to the aims of the program.\n",
    "* CNR programs can work in conjunction with shelters to remove kittens from the colony when they're young enough to be domesticated and live with humans.\n",
    "* Managed colonies can be complemented by dedicated feral cat sanctuaries."
   ]
  }
 ],
 "metadata": {
  "anaconda-cloud": {},
  "kernelspec": {
   "display_name": "Python 3",
   "language": "python",
   "name": "python3"
  },
  "language_info": {
   "codemirror_mode": {
    "name": "ipython",
    "version": 3
   },
   "file_extension": ".py",
   "mimetype": "text/x-python",
   "name": "python",
   "nbconvert_exporter": "python",
   "pygments_lexer": "ipython3",
   "version": "3.6.0"
  }
 },
 "nbformat": 4,
 "nbformat_minor": 1
}
